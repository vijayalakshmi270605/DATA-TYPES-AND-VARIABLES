{
 "cells": [
  {
   "cell_type": "markdown",
   "id": "6433c654",
   "metadata": {},
   "source": [
    "# VIJAYA LAKSHMI"
   ]
  },
  {
   "cell_type": "code",
   "execution_count": 31,
   "id": "fe16bc5d",
   "metadata": {},
   "outputs": [],
   "source": [
    "l1=[\"viji\",3,4+6j]"
   ]
  },
  {
   "cell_type": "code",
   "execution_count": 32,
   "id": "8472acd3",
   "metadata": {},
   "outputs": [
    {
     "data": {
      "text/plain": [
       "['viji', 3, (4+6j)]"
      ]
     },
     "execution_count": 32,
     "metadata": {},
     "output_type": "execute_result"
    }
   ],
   "source": [
    "l1"
   ]
  },
  {
   "cell_type": "code",
   "execution_count": 33,
   "id": "a575fab8",
   "metadata": {},
   "outputs": [],
   "source": [
    "l1.append(3)"
   ]
  },
  {
   "cell_type": "code",
   "execution_count": 34,
   "id": "aadd8d23",
   "metadata": {},
   "outputs": [
    {
     "data": {
      "text/plain": [
       "['viji', 3, (4+6j), 3]"
      ]
     },
     "execution_count": 34,
     "metadata": {},
     "output_type": "execute_result"
    }
   ],
   "source": [
    "l1"
   ]
  },
  {
   "cell_type": "code",
   "execution_count": 35,
   "id": "f9afbe45",
   "metadata": {},
   "outputs": [
    {
     "data": {
      "text/plain": [
       "3"
      ]
     },
     "execution_count": 35,
     "metadata": {},
     "output_type": "execute_result"
    }
   ],
   "source": [
    "l1[1]"
   ]
  },
  {
   "cell_type": "markdown",
   "id": "2b1d0ad0",
   "metadata": {},
   "source": [
    "# MAPPING-DICTIONARY"
   ]
  },
  {
   "cell_type": "code",
   "execution_count": 1,
   "id": "ccb6cdb9",
   "metadata": {},
   "outputs": [],
   "source": [
    "ELECTRONICS={1:'MOBILE',2:'HEADPHONE',3:'CHARGER',4:'TV',5:'LAPTOP'}"
   ]
  },
  {
   "cell_type": "code",
   "execution_count": 2,
   "id": "7afcf365",
   "metadata": {},
   "outputs": [
    {
     "data": {
      "text/plain": [
       "dict"
      ]
     },
     "execution_count": 2,
     "metadata": {},
     "output_type": "execute_result"
    }
   ],
   "source": [
    "type(ELECTRONICS)"
   ]
  },
  {
   "cell_type": "code",
   "execution_count": 3,
   "id": "5e9231b0",
   "metadata": {},
   "outputs": [
    {
     "data": {
      "text/plain": [
       "dict_values(['MOBILE', 'HEADPHONE', 'CHARGER', 'TV', 'LAPTOP'])"
      ]
     },
     "execution_count": 3,
     "metadata": {},
     "output_type": "execute_result"
    }
   ],
   "source": [
    "ELECTRONICS.values()"
   ]
  },
  {
   "cell_type": "code",
   "execution_count": 4,
   "id": "5fe41594",
   "metadata": {},
   "outputs": [
    {
     "data": {
      "text/plain": [
       "dict_keys([1, 2, 3, 4, 5])"
      ]
     },
     "execution_count": 4,
     "metadata": {},
     "output_type": "execute_result"
    }
   ],
   "source": [
    "ELECTRONICS.keys()"
   ]
  },
  {
   "cell_type": "code",
   "execution_count": 5,
   "id": "eb4304f1",
   "metadata": {},
   "outputs": [
    {
     "data": {
      "text/plain": [
       "'LAPTOP'"
      ]
     },
     "execution_count": 5,
     "metadata": {},
     "output_type": "execute_result"
    }
   ],
   "source": [
    "ELECTRONICS[5]"
   ]
  },
  {
   "cell_type": "code",
   "execution_count": 6,
   "id": "f494916b",
   "metadata": {},
   "outputs": [],
   "source": [
    "ELECTRONICS[2]=\"CHARGER\""
   ]
  },
  {
   "cell_type": "code",
   "execution_count": 7,
   "id": "bdb64627",
   "metadata": {},
   "outputs": [
    {
     "data": {
      "text/plain": [
       "{1: 'MOBILE', 2: 'CHARGER', 3: 'CHARGER', 4: 'TV', 5: 'LAPTOP'}"
      ]
     },
     "execution_count": 7,
     "metadata": {},
     "output_type": "execute_result"
    }
   ],
   "source": [
    "ELECTRONICS"
   ]
  },
  {
   "cell_type": "code",
   "execution_count": 8,
   "id": "01c85a80",
   "metadata": {},
   "outputs": [],
   "source": [
    "DETAIL={\"NAME\":\"VIJI\",\"AGE\":18,\"BLOOD GROUP\":\"O+VE\"}"
   ]
  },
  {
   "cell_type": "code",
   "execution_count": 9,
   "id": "ed809417",
   "metadata": {},
   "outputs": [
    {
     "data": {
      "text/plain": [
       "{'NAME': 'VIJI', 'AGE': 18, 'BLOOD GROUP': 'O+VE'}"
      ]
     },
     "execution_count": 9,
     "metadata": {},
     "output_type": "execute_result"
    }
   ],
   "source": [
    "DETAIL"
   ]
  },
  {
   "cell_type": "code",
   "execution_count": 10,
   "id": "70b5dd59",
   "metadata": {},
   "outputs": [
    {
     "data": {
      "text/plain": [
       "18"
      ]
     },
     "execution_count": 10,
     "metadata": {},
     "output_type": "execute_result"
    }
   ],
   "source": [
    "DETAIL[\"AGE\"]"
   ]
  },
  {
   "cell_type": "code",
   "execution_count": 11,
   "id": "b7dbf1ea",
   "metadata": {},
   "outputs": [
    {
     "data": {
      "text/plain": [
       "3"
      ]
     },
     "execution_count": 11,
     "metadata": {},
     "output_type": "execute_result"
    }
   ],
   "source": [
    "len(DETAIL)"
   ]
  },
  {
   "cell_type": "code",
   "execution_count": 16,
   "id": "1987e013",
   "metadata": {},
   "outputs": [
    {
     "data": {
      "text/plain": [
       "'O+VE'"
      ]
     },
     "execution_count": 16,
     "metadata": {},
     "output_type": "execute_result"
    }
   ],
   "source": [
    "DETAIL.pop(\"BLOOD GROUP\")"
   ]
  },
  {
   "cell_type": "code",
   "execution_count": 17,
   "id": "8c613de8",
   "metadata": {},
   "outputs": [
    {
     "data": {
      "text/plain": [
       "{'AGE': 18}"
      ]
     },
     "execution_count": 17,
     "metadata": {},
     "output_type": "execute_result"
    }
   ],
   "source": [
    "DETAIL"
   ]
  },
  {
   "cell_type": "markdown",
   "id": "265f54b6",
   "metadata": {},
   "source": [
    "# SET"
   ]
  },
  {
   "cell_type": "code",
   "execution_count": 21,
   "id": "8a37af2f",
   "metadata": {},
   "outputs": [],
   "source": [
    "DETAIL2={\"VIJI:18\",\"JAYA:18\",\"SRI:18\"}"
   ]
  },
  {
   "cell_type": "code",
   "execution_count": 22,
   "id": "c93a0d55",
   "metadata": {},
   "outputs": [
    {
     "data": {
      "text/plain": [
       "set"
      ]
     },
     "execution_count": 22,
     "metadata": {},
     "output_type": "execute_result"
    }
   ],
   "source": [
    "type(DETAIL2)"
   ]
  },
  {
   "cell_type": "code",
   "execution_count": 23,
   "id": "e60bdbe6",
   "metadata": {},
   "outputs": [
    {
     "data": {
      "text/plain": [
       "{'JAYA:18', 'SRI:18', 'VIJI:18'}"
      ]
     },
     "execution_count": 23,
     "metadata": {},
     "output_type": "execute_result"
    }
   ],
   "source": [
    "DETAIL2"
   ]
  },
  {
   "cell_type": "code",
   "execution_count": 24,
   "id": "e59043e2",
   "metadata": {},
   "outputs": [],
   "source": [
    "DETAIL2.add(\"vidya\")"
   ]
  },
  {
   "cell_type": "code",
   "execution_count": 25,
   "id": "bc37ac95",
   "metadata": {},
   "outputs": [
    {
     "data": {
      "text/plain": [
       "{'JAYA:18', 'SRI:18', 'VIJI:18', 'vidya'}"
      ]
     },
     "execution_count": 25,
     "metadata": {},
     "output_type": "execute_result"
    }
   ],
   "source": [
    "DETAIL2"
   ]
  },
  {
   "cell_type": "markdown",
   "id": "2610717f",
   "metadata": {},
   "source": [
    "# FROZEN SET"
   ]
  },
  {
   "cell_type": "code",
   "execution_count": 26,
   "id": "f85d66b8",
   "metadata": {},
   "outputs": [],
   "source": [
    "DETAIL3=frozenset({\"VIJI:18\",\"JAYA:18\",\"SRI:18\"})"
   ]
  },
  {
   "cell_type": "code",
   "execution_count": 27,
   "id": "4b01f063",
   "metadata": {},
   "outputs": [
    {
     "data": {
      "text/plain": [
       "frozenset"
      ]
     },
     "execution_count": 27,
     "metadata": {},
     "output_type": "execute_result"
    }
   ],
   "source": [
    "type(DETAIL3)"
   ]
  },
  {
   "cell_type": "markdown",
   "id": "6933d089",
   "metadata": {},
   "source": [
    "# BOOLEAN"
   ]
  },
  {
   "cell_type": "code",
   "execution_count": 28,
   "id": "1eb459c3",
   "metadata": {},
   "outputs": [
    {
     "data": {
      "text/plain": [
       "False"
      ]
     },
     "execution_count": 28,
     "metadata": {},
     "output_type": "execute_result"
    }
   ],
   "source": [
    "a=11\n",
    "b=21\n",
    "a>b"
   ]
  },
  {
   "cell_type": "code",
   "execution_count": 29,
   "id": "e1bf5b75",
   "metadata": {},
   "outputs": [
    {
     "data": {
      "text/plain": [
       "True"
      ]
     },
     "execution_count": 29,
     "metadata": {},
     "output_type": "execute_result"
    }
   ],
   "source": [
    "a=34\n",
    "b=17\n",
    "a>b"
   ]
  },
  {
   "cell_type": "code",
   "execution_count": null,
   "id": "8cd32fde",
   "metadata": {},
   "outputs": [],
   "source": []
  }
 ],
 "metadata": {
  "kernelspec": {
   "display_name": "Python 3 (ipykernel)",
   "language": "python",
   "name": "python3"
  },
  "language_info": {
   "codemirror_mode": {
    "name": "ipython",
    "version": 3
   },
   "file_extension": ".py",
   "mimetype": "text/x-python",
   "name": "python",
   "nbconvert_exporter": "python",
   "pygments_lexer": "ipython3",
   "version": "3.9.17"
  }
 },
 "nbformat": 4,
 "nbformat_minor": 5
}
